{
 "cells": [
  {
   "cell_type": "markdown",
   "metadata": {},
   "source": [
    "# Basket Ball Computer Vision"
   ]
  },
  {
   "cell_type": "markdown",
   "metadata": {},
   "source": [
    "The idea is to perform two sets of analysis. Essentially I want to how the mnist network "
   ]
  },
  {
   "cell_type": "code",
   "execution_count": 1,
   "metadata": {},
   "outputs": [],
   "source": [
    "from __future__ import absolute_import\n",
    "from __future__ import division\n",
    "from __future__ import print_function\n",
    "\n",
    "\n",
    "import argparse\n",
    "import sys\n",
    "import tempfile\n",
    "import cv2\n",
    "import csv\n",
    "import glob\n",
    "import pandas as pd\n",
    "import numpy as np\n",
    "from tensorflow.contrib.data import Dataset, Iterator\n",
    "\n",
    "%run lib/util.py # contains utilities to retrieve the data from the basketball image folder\n",
    "\n",
    "import tensorflow as tf"
   ]
  },
  {
   "cell_type": "markdown",
   "metadata": {},
   "source": [
    "The function below is essentially a dead copy of the tensor flow deep example, showing how to build a proper network. I've modified to allow it to deal with variable values from height, width and classification labels"
   ]
  },
  {
   "cell_type": "code",
   "execution_count": 2,
   "metadata": {
    "collapsed": true
   },
   "outputs": [],
   "source": [
    "def mnist_network(x, height, width, num_labels):\n",
    "  \"\"\" builds the mnist neural net for analysing arbitrary dimension images\n",
    "  Args:\n",
    "    x: an input tensor with the dimensions \n",
    "    height: height of the image\n",
    "    widht: width of the image\n",
    "    \n",
    "  Returns:\n",
    "    A tuple (y, keep_prob). y is a tensor of shape (N_examples, num_labels), with values\n",
    "    equal to the logits of classifying the image into one of num_labels classes. \n",
    "    keep_prob is a scalar placeholder for the probability of\n",
    "    dropout.\n",
    "  \"\"\"\n",
    "  # Reshape to use within a convolutional neural net.\n",
    "  # Last dimension is for \"features\" - there is only one here, since images are\n",
    "  # grayscale -- it would be 3 for an RGB image, 4 for RGBA, etc.\n",
    "  with tf.name_scope('reshape'):\n",
    "    x_image = tf.reshape(x, [-1, height, width, 3])\n",
    "\n",
    "  # First convolutional layer - maps one grayscale image to 32 feature maps.\n",
    "  with tf.name_scope('conv1'):\n",
    "    W_conv1 = weight_variable([5, 5, 3, 32])\n",
    "    b_conv1 = bias_variable([32])\n",
    "    h_conv1 = tf.nn.relu(conv2d(x_image, W_conv1) + b_conv1)\n",
    "\n",
    "  # Pooling layer - downsamples by 2X.\n",
    "  with tf.name_scope('pool1'):\n",
    "    h_pool1 = max_pool_2x2(h_conv1)\n",
    "\n",
    "  # Second convolutional layer -- maps 32 feature maps to 64.\n",
    "  with tf.name_scope('conv2'):\n",
    "    W_conv2 = weight_variable([5, 5, 32, 64])\n",
    "    b_conv2 = bias_variable([64])\n",
    "    h_conv2 = tf.nn.relu(conv2d(h_pool1, W_conv2) + b_conv2)\n",
    "\n",
    "  # Second pooling layer.\n",
    "  with tf.name_scope('pool2'):\n",
    "    h_pool2 = max_pool_2x2(h_conv2)\n",
    "\n",
    "  # Fully connected layer 1 -- after 2 round of downsampling, our 28x28 image\n",
    "  # is down to 7x7x64 feature maps -- maps this to 1024 features.\n",
    "  with tf.name_scope('fc1'):\n",
    "    W_fc1 = weight_variable([10 * 10 * 64, 128])\n",
    "    b_fc1 = bias_variable([128])\n",
    "\n",
    "    h_pool2_flat = tf.reshape(h_pool2, [-1, 10*10*64])\n",
    "    h_fc1 = tf.nn.relu(tf.matmul(h_pool2_flat, W_fc1) + b_fc1)\n",
    "\n",
    "  # Dropout - controls the complexity of the model, prevents co-adaptation of\n",
    "  # features.\n",
    "  with tf.name_scope('dropout'):\n",
    "    keep_prob = tf.placeholder(tf.float32)\n",
    "    h_fc1_drop = tf.nn.dropout(h_fc1, keep_prob)\n",
    "\n",
    "  # Map the features to num_labels classes\n",
    "  with tf.name_scope('fc2'):\n",
    "    W_fc2 = weight_variable([128, num_labels])\n",
    "    b_fc2 = bias_variable([num_labels])\n",
    "\n",
    "    y_conv = tf.matmul(h_fc1_drop, W_fc2) + b_fc2\n",
    "  return y_conv, keep_prob"
   ]
  },
  {
   "cell_type": "markdown",
   "metadata": {},
   "source": [
    "Helper function below from the tensor flow deep tutorial "
   ]
  },
  {
   "cell_type": "code",
   "execution_count": 3,
   "metadata": {
    "collapsed": true
   },
   "outputs": [],
   "source": [
    "def conv2d(x, W):\n",
    "  \"\"\"conv2d returns a 2d convolution layer with full stride.\"\"\"\n",
    "  return tf.nn.conv2d(x, W, strides=[1, 1, 1, 1], padding='SAME')\n",
    "\n",
    "\n",
    "def max_pool_2x2(x):\n",
    "  \"\"\"max_pool_2x2 downsamples a feature map by 2X.\"\"\"\n",
    "  return tf.nn.max_pool(x, ksize=[1, 2, 2, 1],\n",
    "                        strides=[1, 2, 2, 1], padding='SAME')\n",
    "\n",
    "\n",
    "def weight_variable(shape):\n",
    "  \"\"\"weight_variable generates a weight variable of a given shape.\"\"\"\n",
    "  initial = tf.truncated_normal(shape, stddev=0.1)\n",
    "  return tf.Variable(initial)\n",
    "\n",
    "\n",
    "def bias_variable(shape):\n",
    "  \"\"\"bias_variable generates a bias variable of a given shape.\"\"\"\n",
    "  initial = tf.constant(0.1, shape=shape)\n",
    "  return tf.Variable(initial)"
   ]
  },
  {
   "cell_type": "code",
   "execution_count": 4,
   "metadata": {
    "collapsed": true
   },
   "outputs": [],
   "source": [
    "def batch_data(training_images, training_ground_truth, batch_size, epoch):\n",
    "    \"\"\"returns a tf data with it's iterator and initialiser for given batch size and epoch \"\"\"\n",
    "    # create TensorFlow Dataset objects\n",
    "    tr_data = Dataset.from_tensor_slices((training_images.values, training_ground_truth.values))\n",
    "    tr_data = tr_data.shuffle(buffer_size=10000)\n",
    "    tr_data = tr_data.batch(batch_size)\n",
    "    \n",
    "    # if epoch none then don't repeat at all\n",
    "    if epoch :\n",
    "        tr_data = tr_data.repeat(epoch)\n",
    "\n",
    "    # create TensorFlow Iterator object\n",
    "    iterator = Iterator.from_structure(tr_data.output_types,\n",
    "                                     tr_data.output_shapes)\n",
    "\n",
    "    next_element = iterator.get_next()\n",
    "\n",
    "    training_init_op = iterator.make_initializer(tr_data)\n",
    "    return (tr_data, next_element, training_init_op)"
   ]
  },
  {
   "cell_type": "markdown",
   "metadata": {},
   "source": [
    "## Model Creation\n",
    "\n",
    "Now the fun begins, we specify the input placeholder create the loss function and convert the data into a data frame for manipulation"
   ]
  },
  {
   "cell_type": "code",
   "execution_count": 5,
   "metadata": {
    "collapsed": true
   },
   "outputs": [],
   "source": [
    "# Create the model\n",
    "width = 40\n",
    "height = 40\n",
    "x = tf.placeholder(tf.float32, [None, height * width * 3])\n",
    "\n",
    "# Define loss and optimizer\n",
    "y_ = tf.placeholder(tf.float32, [None, 2])\n",
    "\n",
    "# Build the graph for the deep net\n",
    "y_conv, keep_prob = mnist_network(x, height, width, num_labels=2)\n",
    "y_conv_orig, keep_prob_orig = mnist_network(x, height, width, num_labels=2)\n",
    "\n",
    "prediction_ = tf.placeholder(tf.float32, [None, 2])\n",
    "\n",
    "# get rescaled training data and convert to data frame\n",
    "(images, ground_truth) = get_rescaled_image(40, 40)\n",
    "images_df = pd.DataFrame(data=images)\n",
    "ground_truth_df = pd.DataFrame(data=ground_truth)"
   ]
  },
  {
   "cell_type": "markdown",
   "metadata": {},
   "source": [
    "## Equal amount negative and positive examples\n",
    "\n",
    "So what we need to do to test the  idea of a training set with equalish amount of samples of containing basketballs and not containing basketballs"
   ]
  },
  {
   "cell_type": "code",
   "execution_count": 6,
   "metadata": {},
   "outputs": [
    {
     "name": "stdout",
     "output_type": "stream",
     "text": [
      "Number of bballs images in traing set: %d (64, 2)\n",
      "Number of neg bballs images in traing set: %d (300, 2)\n"
     ]
    }
   ],
   "source": [
    "# segregate into training and test data\n",
    "num_images = images_df.shape[0]\n",
    "train_length = int(0.8 * num_images)\n",
    "training_images = images_df[: train_length]\n",
    "training_ground_truth = ground_truth_df[: train_length]\n",
    "\n",
    "\n",
    "training_images_ad = training_images[training_ground_truth[0] == 1]\n",
    "training_ground_truth_ad = training_ground_truth[training_ground_truth[0] == 1]\n",
    "\n",
    "training_images_eq = training_images\n",
    "training_ground_truth_eq = training_ground_truth\n",
    "\n",
    "for i in range(4):\n",
    "    training_images_eq = training_images.append(training_images_ad)  \n",
    "    training_ground_truth_eq = training_ground_truth.append(training_ground_truth_ad)\n",
    "\n",
    "test_images = images_df[train_length + 1:]\n",
    "test_ground_truth = ground_truth_df[train_length + 1:]\n",
    "\n",
    "test_images = test_images[test_ground_truth[0] == 1]\n",
    "test_ground_truth = test_ground_truth[test_ground_truth[0] == 1]\n",
    "\n",
    "print(\"Number of bballs images in traing set: %d\", (training_ground_truth[training_ground_truth[0]==1].shape)) \n",
    "print(\"Number of neg bballs images in traing set: %d\", (training_ground_truth[training_ground_truth[0]==0].shape)) \n"
   ]
  },
  {
   "cell_type": "markdown",
   "metadata": {},
   "source": [
    "### Shuffle Data\n",
    "\n",
    "We need to shuffle data so batch training gets good mix of training instances per batch"
   ]
  },
  {
   "cell_type": "code",
   "execution_count": 7,
   "metadata": {},
   "outputs": [
    {
     "name": "stdout",
     "output_type": "stream",
     "text": [
      "Saving graph to: C:\\Users\\crisyp\\AppData\\Local\\Temp\\tmpowq3ta_x\n"
     ]
    }
   ],
   "source": [
    "with tf.name_scope('loss'):\n",
    "    cross_entropy = tf.nn.softmax_cross_entropy_with_logits(labels=y_,\n",
    "                                                            logits=y_conv)\n",
    "cross_entropy = tf.reduce_mean(cross_entropy)\n",
    "\n",
    "with tf.name_scope('adam_optimizer'):\n",
    "    train_step = tf.train.AdamOptimizer(1e-4).minimize(cross_entropy)\n",
    "\n",
    "with tf.name_scope('accuracy'):\n",
    "    correct_prediction = tf.equal(tf.argmax(y_conv, 1), tf.argmax(y_, 1))\n",
    "    correct_prediction = tf.cast(correct_prediction, tf.float32)\n",
    "accuracy = tf.reduce_mean(correct_prediction)\n",
    "\n",
    "graph_location = tempfile.mkdtemp()\n",
    "print('Saving graph to: %s' % graph_location)\n",
    "train_writer = tf.summary.FileWriter(graph_location)\n",
    "train_writer.add_graph(tf.get_default_graph())"
   ]
  },
  {
   "cell_type": "markdown",
   "metadata": {},
   "source": [
    "Get batch data which has been enhanced by adding multiples of the same images of basketsballs to it to even representation of both classes and then the original data set which has more of a 30-70 split between basketballs and  non basketball image classes"
   ]
  },
  {
   "cell_type": "code",
   "execution_count": 8,
   "metadata": {
    "collapsed": true
   },
   "outputs": [],
   "source": [
    "batch_size = 30\n",
    "epoch = 25\n",
    "tr_data_eq, next_element_eq, training_init_op_eq = batch_data(training_images_eq, training_ground_truth_eq, batch_size, None)\n",
    "tr_data_orig, next_element_orig, training_init_op_orig = batch_data(training_images, training_ground_truth, batch_size, None)"
   ]
  },
  {
   "cell_type": "markdown",
   "metadata": {},
   "source": [
    "## Training with parity data set (equalish bball and non bball classes)\n",
    "\n",
    "Train with the parity data set and accumulate learning error scores as the data size trained with increases (learning curve). "
   ]
  },
  {
   "cell_type": "code",
   "execution_count": null,
   "metadata": {},
   "outputs": [],
   "source": [
    "with tf.Session() as sess:\n",
    "    train_error = list()\n",
    "    test_error = list()\n",
    "    batch_sizes =  list()\n",
    "    num_batches = 0\n",
    "    try:\n",
    "      sess.run(tf.global_variables_initializer())\n",
    "      sess.run(tf.local_variables_initializer())\n",
    "    except Exception as e:\n",
    "      print(\"error\")\n",
    "\n",
    "    for _ in range(epoch):\n",
    "        # initialize the iterator on the training data\n",
    "        sess.run(training_init_op_eq)\n",
    "\n",
    "        # equal amount of positive images\n",
    "        # get each element of the training dataset until the end is reached\n",
    "        while True:\n",
    "            try:\n",
    "                (image_batch, ground_truth_batch) = sess.run(next_element_eq)\n",
    "                _, loss_val = sess.run([train_step, cross_entropy],\n",
    "                                       feed_dict={x: image_batch,\n",
    "                                                  y_: ground_truth_batch, keep_prob: 0.5})\n",
    "            except tf.errors.OutOfRangeError:\n",
    "                print(\"End of training dataset.\")\n",
    "                break\n",
    "            except Exception as e:\n",
    "                print(\"error: %s\", e)\n",
    "        train_accuracy = accuracy.eval(feed_dict={ x: image_batch,\n",
    "                                          y_: ground_truth_batch, keep_prob: 1.0})\n",
    "        test_accuracy = accuracy.eval(feed_dict={ x: test_images.values,\n",
    "                                          y_: test_ground_truth.values, keep_prob: 1.0})\n",
    "\n",
    "        num_batches = num_batches + batch_size\n",
    "        print('training accuracy %g' % train_accuracy)\n",
    "        print('test accuracy %g' % test_accuracy)\n",
    "        print('loss_val %g' % loss_val)\n",
    "        train_error.append(1-train_accuracy)\n",
    "        test_error.append(1-test_accuracy)\n",
    "        batch_sizes.append(num_batches)"
   ]
  },
  {
   "cell_type": "markdown",
   "metadata": {},
   "source": [
    "## Training with original non-parity data set (30-70 split bball and non bball classes)\n",
    "\n",
    "Train with the orignal parity data set and accumulate learning error scores as the data size trained with increases (learning curve). "
   ]
  },
  {
   "cell_type": "code",
   "execution_count": 9,
   "metadata": {},
   "outputs": [
    {
     "name": "stdout",
     "output_type": "stream",
     "text": [
      "End of training dataset.\n",
      "training accuracy 0.5\n",
      "test accuracy 0\n",
      "loss_val 519.95\n",
      "End of training dataset.\n",
      "training accuracy 0.5\n",
      "test accuracy 0.388889\n",
      "loss_val 270.544\n",
      "End of training dataset.\n",
      "training accuracy 1\n",
      "test accuracy 0.111111\n",
      "loss_val 71.7426\n",
      "End of training dataset.\n",
      "training accuracy 1\n",
      "test accuracy 0.222222\n",
      "loss_val 45.8223\n",
      "End of training dataset.\n",
      "training accuracy 0.75\n",
      "test accuracy 0.222222\n",
      "loss_val 263.208\n",
      "End of training dataset.\n",
      "training accuracy 1\n",
      "test accuracy 0.222222\n",
      "loss_val 3.07102\n",
      "End of training dataset.\n",
      "training accuracy 1\n",
      "test accuracy 0.277778\n",
      "loss_val 0\n",
      "End of training dataset.\n",
      "training accuracy 0.25\n",
      "test accuracy 0.277778\n",
      "loss_val 66.2683\n",
      "End of training dataset.\n",
      "training accuracy 0.75\n",
      "test accuracy 0.444444\n",
      "loss_val 207.164\n",
      "End of training dataset.\n",
      "training accuracy 0.75\n",
      "test accuracy 0.5\n",
      "loss_val 56.8301\n",
      "End of training dataset.\n",
      "training accuracy 1\n",
      "test accuracy 0.333333\n",
      "loss_val 0\n",
      "End of training dataset.\n",
      "training accuracy 1\n",
      "test accuracy 0.333333\n",
      "loss_val 0\n",
      "End of training dataset.\n",
      "training accuracy 1\n",
      "test accuracy 0.277778\n",
      "loss_val 7.15255e-07\n",
      "End of training dataset.\n",
      "training accuracy 0.75\n",
      "test accuracy 0.444444\n",
      "loss_val 0\n",
      "End of training dataset.\n",
      "training accuracy 1\n",
      "test accuracy 0.388889\n",
      "loss_val 14.5204\n",
      "End of training dataset.\n",
      "training accuracy 1\n",
      "test accuracy 0.388889\n",
      "loss_val 0.551821\n",
      "End of training dataset.\n",
      "training accuracy 0.75\n",
      "test accuracy 0.388889\n",
      "loss_val 3.49571\n",
      "End of training dataset.\n",
      "training accuracy 1\n",
      "test accuracy 0.333333\n",
      "loss_val 0\n",
      "End of training dataset.\n",
      "training accuracy 1\n",
      "test accuracy 0.5\n",
      "loss_val 0\n",
      "End of training dataset.\n",
      "training accuracy 1\n",
      "test accuracy 0.388889\n",
      "loss_val 0\n",
      "End of training dataset.\n",
      "training accuracy 1\n",
      "test accuracy 0.388889\n",
      "loss_val 5.36856\n",
      "End of training dataset.\n",
      "training accuracy 0.5\n",
      "test accuracy 0.277778\n",
      "loss_val 0\n",
      "End of training dataset.\n",
      "training accuracy 1\n",
      "test accuracy 0.388889\n",
      "loss_val 11.5301\n",
      "End of training dataset.\n",
      "training accuracy 0.75\n",
      "test accuracy 0.333333\n",
      "loss_val 0\n",
      "End of training dataset.\n",
      "training accuracy 1\n",
      "test accuracy 0.333333\n",
      "loss_val 2.46831\n"
     ]
    }
   ],
   "source": [
    "with tf.Session() as sess:\n",
    "    train_error_orig = list()\n",
    "    test_error_orig = list()\n",
    "    batch_sizes_orig =  list()\n",
    "    num_batches = 0\n",
    "    try:\n",
    "      sess.run(tf.global_variables_initializer())\n",
    "      sess.run(tf.local_variables_initializer())\n",
    "    except Exception as e:\n",
    "      print(\"error\")\n",
    "\n",
    "    for _ in range(epoch):\n",
    "        # initialize the iterator on the training data\n",
    "        sess.run(training_init_op_orig)\n",
    "        # low amount of positive images\n",
    "        # get each element of the training dataset until the end is reached\n",
    "        while True:\n",
    "            try:\n",
    "                (image_batch, ground_truth_batch) = sess.run(next_element_orig)\n",
    "                _, loss_val = sess.run([train_step, cross_entropy],\n",
    "                                       feed_dict={x: image_batch,\n",
    "                                                  y_: ground_truth_batch, keep_prob: 0.5})\n",
    "            except tf.errors.OutOfRangeError:\n",
    "                print(\"End of training dataset.\")\n",
    "                break\n",
    "            except Exception as e:\n",
    "                print(\"error: %s\", e)\n",
    "        train_accuracy = accuracy.eval(feed_dict={ x: image_batch,\n",
    "                                          y_: ground_truth_batch, keep_prob: 1.0})\n",
    "        test_accuracy = accuracy.eval(feed_dict={ x: test_images.values,\n",
    "                                          y_: test_ground_truth.values, keep_prob: 1.0})\n",
    "\n",
    "        num_batches = num_batches + batch_size\n",
    "        print('training accuracy %g' % train_accuracy)\n",
    "        print('test accuracy %g' % test_accuracy)\n",
    "        print('loss_val %g' % loss_val)\n",
    "        train_error_orig.append(1-train_accuracy)\n",
    "        test_error_orig.append(1-test_accuracy)\n",
    "        batch_sizes_orig.append(num_batches)"
   ]
  },
  {
   "cell_type": "markdown",
   "metadata": {},
   "source": [
    "## Plotting the learning curve\n",
    "\n",
    "What this should tell me is if I'm experience Bias or High variance. You want a low bias network preferably  "
   ]
  },
  {
   "cell_type": "code",
   "execution_count": null,
   "metadata": {},
   "outputs": [],
   "source": [
    "%matplotlib inline\n",
    "import matplotlib.pyplot as plt\n",
    "\n",
    "fig = plt.figure()\n",
    "ax1 = fig.add_subplot(111)\n",
    "\n",
    "ax1.plot(batch_sizes, train_error, 'xb-', marker=\"s\", label='train')\n",
    "ax1.plot(batch_sizes, test_error, 'xr-', marker=\"s\", label='test')\n",
    "plt.ylabel('error')\n",
    "plt.xlabel('training size')\n",
    "plt.legend(loc='upper right');\n",
    "plt.title(\"Equal classes\")\n",
    "plt.show()\n"
   ]
  },
  {
   "cell_type": "markdown",
   "metadata": {},
   "source": [
    "What you see belo"
   ]
  },
  {
   "cell_type": "code",
   "execution_count": 10,
   "metadata": {},
   "outputs": [
    {
     "data": {
      "image/png": "[encoded data removed]",
      "text/plain": [
       "<matplotlib.figure.Figure at 0x2ce1ba58ac8>"
      ]
     },
     "metadata": {},
     "output_type": "display_data"
    }
   ],
   "source": [
    "%matplotlib inline\n",
    "import matplotlib.pyplot as plt\n",
    "\n",
    "fig = plt.figure()\n",
    "ax1 = fig.add_subplot(111)\n",
    "\n",
    "ax1.plot(batch_sizes_orig, train_error_orig, 'xb-', marker=\"s\", label='train')\n",
    "ax1.plot(batch_sizes_orig, test_error_orig, 'xr-', marker=\"s\", label='test')\n",
    "plt.ylabel('error')\n",
    "plt.xlabel('training size')\n",
    "plt.title(\"30-70 Split\")\n",
    "plt.legend(loc='upper right');\n",
    "plt.show()"
   ]
  },
  {
   "cell_type": "markdown",
   "metadata": {
    "collapsed": true
   },
   "source": [
    "Looking at the plot what you see is the training error varies quite a lot from zero to 40% to 60% and this is probably caused by the high bias caused by limited positive basket ball images. So when a batch  is "
   ]
  }
 ],
 "metadata": {
  "kernelspec": {
   "display_name": "Python 3",
   "language": "python",
   "name": "python3"
  },
  "language_info": {
   "codemirror_mode": {
    "name": "ipython",
    "version": 3
   },
   "file_extension": ".py",
   "mimetype": "text/x-python",
   "name": "python",
   "nbconvert_exporter": "python",
   "pygments_lexer": "ipython3",
   "version": "3.6.3"
  }
 },
 "nbformat": 4,
 "nbformat_minor": 2
}
